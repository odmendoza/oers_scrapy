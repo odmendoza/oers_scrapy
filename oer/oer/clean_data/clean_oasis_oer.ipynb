{
 "cells": [
  {
   "cell_type": "markdown",
   "source": [
    "# Setting up conection "
   ],
   "metadata": {
    "collapsed": false
   }
  },
  {
   "cell_type": "code",
   "execution_count": null,
   "outputs": [],
   "source": [
    "from sqlalchemy import create_engine, MetaData, Table\n",
    "from sqlalchemy.orm import mapper, sessionmaker\n",
    "from sqlalchemy import Column, Integer\n",
    "from sqlalchemy.ext.declarative import declarative_base\n",
    "from scrapy.selector import Selector\n",
    "from sqlalchemy.sql import text as sa_text\n",
    "import re\n",
    "\n",
    "engine = create_engine('mysql+pymysql://root:@localhost/oerintegrationdb', echo=False)\n",
    "Base = declarative_base(engine)\n",
    "\n",
    "class Triple(Base):\n",
    "    __tablename__ = 'triple'\n",
    "    __table_args__ = {'autoload': True}\n",
    "\n",
    "\n",
    "class CleanTriple(Base):\n",
    "    __tablename__ = 'cleantriple'\n",
    "    __table_args__ = {'autoload': True}\n",
    "\n",
    "metadata = Base.metadata\n",
    "Session = sessionmaker(bind=engine)\n",
    "session = Session()\n",
    "\n",
    "print(\"Ready DB\")"
   ],
   "metadata": {
    "collapsed": false,
    "pycharm": {
     "name": "#%% \n"
    }
   }
  },
  {
   "cell_type": "markdown",
   "source": [],
   "metadata": {
    "collapsed": false
   }
  },
  {
   "cell_type": "code",
   "execution_count": null,
   "outputs": [],
   "source": [
    "triples = session.query(Triple).filter(Triple.subject ==\"oasis\")\n",
    "print(\"Cleaned\")"
   ],
   "metadata": {
    "collapsed": false,
    "pycharm": {
     "name": "#%%\n"
    }
   }
  },
  {
   "cell_type": "code",
   "execution_count": null,
   "outputs": [],
   "source": [
    "source_raw = \"OAsis\"\n",
    "for triple in triples:\n",
    "    body = triple.object\n",
    "    source = triple.source\n",
    "    # Setting name\n",
    "    name = Selector(text=body).xpath(\"//h2/text()\").get()  \n",
    "    name_triple =  name.replace(\" \", \"\")\n",
    "    name_triple =  name_triple.replace(\"/\", \"\")\n",
    "    name_triple =  name_triple.replace(\":\", \"\")\n",
    "    print('_ _ _ _')\n",
    "    print('name')\n",
    "    print('_ _ _ _')\n",
    "    print(name_triple)\n",
    "    session.add(CleanTriple(subject_uri=source ,subject_id =source_raw, predicate='Name', object=name_triple))\n",
    "    \n",
    "    table_predicate = Selector(text=body).xpath(\"//td[@class='label-cell']/text()\").getall()\n",
    "    table_object = Selector(text=body).xpath(\"//td[@class='word-break']/text()\").getall()\n",
    "    if table_object is not None and table_predicate is not None:\n",
    "        for predicate, object in zip(table_predicate, table_object):\n",
    "            print(predicate, ' : ', object)\n",
    "            session.add(CleanTriple(subject_uri=source ,subject_id =source_raw, predicate=predicate, object=object))\n",
    "    \n",
    "    files = Selector(text=body).xpath('//div[@class=\"file-wrapper row\"]').getall()\n",
    "    j=1\n",
    "    obj_files = []\n",
    "    if files is not None:\n",
    "        for f in files:\n",
    "            obj = source + '_file' + str(j)\n",
    "            obj_files.append(obj)\n",
    "            j+=1\n",
    "            print('file : ', obj)\n",
    "            session.add(CleanTriple(subject_uri=source ,subject_id =source_raw, predicate='file', object=obj))\n",
    "            \n",
    "        for file, o in zip(files, obj_files):\n",
    "            img = Selector(text=file).xpath('//div[@class=\"file-wrapper row\"]/div/div/a/img/@src').getall()\n",
    "            fl = Selector(text=file).xpath('//a/@href').getall()\n",
    "            img = [\"%s%s\" % ('http://oasis.col.org', s) for s in img]\n",
    "            fl = [\"%s%s\" % ('http://oasis.col.org', s) for s in fl]\n",
    "            files_predicate = Selector(text=file).xpath('//dl[@class=\"file-metadata dl-horizontal\"]/dt/text()').getall()\n",
    "            files_object = Selector(text=file).xpath('//dl[@class=\"file-metadata dl-horizontal\"]/dd/text()').getall()\n",
    "            if files_object is not None and files_predicate is not None:\n",
    "                for predicate, object in zip(files_predicate, files_object):\n",
    "                    print(predicate, ' : ', object)\n",
    "                    session.add(CleanTriple(subject_uri=o ,subject_id =source_raw, predicate=predicate, object=object))\n",
    "            print('img :', img[0])\n",
    "            print('file : ', fl[0])\n",
    "            session.add(CleanTriple(subject_uri=o ,subject_id =source_raw, predicate='image', object=img[0]))\n",
    "            session.add(CleanTriple(subject_uri=o,subject_id =source_raw, predicate='url_file', object=fl[0]))\n",
    "            \n",
    "print(\"Done\")     \n",
    "session.commit()\n",
    "session.close_all()"
   ],
   "metadata": {
    "collapsed": false,
    "pycharm": {
     "name": "#%%\n"
    }
   }
  }
 ],
 "metadata": {
  "kernelspec": {
   "display_name": "Python 3",
   "language": "python",
   "name": "python3"
  },
  "language_info": {
   "codemirror_mode": {
    "name": "ipython",
    "version": 2
   },
   "file_extension": ".py",
   "mimetype": "text/x-python",
   "name": "python",
   "nbconvert_exporter": "python",
   "pygments_lexer": "ipython2",
   "version": "2.7.6"
  },
  "pycharm": {
   "stem_cell": {
    "cell_type": "raw",
    "source": [],
    "metadata": {
     "collapsed": false
    }
   }
  }
 },
 "nbformat": 4,
 "nbformat_minor": 0
}